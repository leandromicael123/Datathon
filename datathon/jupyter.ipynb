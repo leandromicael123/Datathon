{
 "cells": [
  {
   "cell_type": "code",
   "execution_count": 163,
   "id": "f4ffc830-9335-4573-b226-4fee43ba2889",
   "metadata": {},
   "outputs": [],
   "source": [
    "import pandas as pd\n",
    "import matplotlib.pyplot as plt\n",
    "# The code to install the required library\n",
    "\n",
    "# Importing seaborn and reading the Excel file\n",
    "import seaborn as sns\n",
    "df = pd.read_excel(\"analise.xlsx\")\n",
    "Agua = \"Consumo_Agua_Litros\"\n",
    "Energia = \"Consumo_Energia_kWh\"\n",
    "co2 = \"Emissao_Gases_CO2e_kg\"\n",
    "Pais = \"Região_Fabricante\""
   ]
  },
  {
   "cell_type": "markdown",
   "id": "8d679451",
   "metadata": {},
   "source": [
    "Estatisticas descritivas"
   ]
  },
  {
   "cell_type": "code",
   "execution_count": 181,
   "id": "8ff2e63d",
   "metadata": {},
   "outputs": [],
   "source": [
    "# Tabela com medidas descritivas\n",
    "tabela_descritiva = df.describe(include='all')\n",
    "# Converter a tabela descritiva em um novo arquivo CSV\n",
    "tabela_descritiva.to_csv('tabela_descritiva_vendas.csv', index=True, encoding='utf-8')\n"
   ]
  },
  {
   "cell_type": "markdown",
   "id": "5b886dc2",
   "metadata": {},
   "source": [
    "Base de dados clientes"
   ]
  },
  {
   "cell_type": "code",
   "execution_count": null,
   "id": "35aa052d",
   "metadata": {},
   "outputs": [
    {
     "name": "stdout",
     "output_type": "stream",
     "text": [
      "+--------+-------------+--------------+-----------------------+-----------------------+------------------+-------------------------------+-------------------------------+-------------------------+--------------+-------------------+------------------+-----------+--------------+----------------------+---------------------+--------------+\n",
      "|        | Categoria   |   Cliente_ID |   Consumo_Agua_Litros |   Consumo_Energia_kWh |   Custo_Produção | Data_Compra                   | Data_Receção                  |   Emissao_Gases_CO2e_kg | Fabricante   | País_Fabricante   |   Preço_Unitário | Produto   |   Produto_ID |   Quantidade_Vendida | Região_Fabricante   |       Indice |\n",
      "+========+=============+==============+=======================+=======================+==================+===============================+===============================+=========================+==============+===================+==================+===========+==============+======================+=====================+==============+\n",
      "| count  | 10674       |        10674 |            10674      |            10674      |        10674     | 10674                         | 10674                         |             10674       | 10674        | 10674             |        10674     | 10674     |   10674      |          10674       | 10674               | 10674        |\n",
      "+--------+-------------+--------------+-----------------------+-----------------------+------------------+-------------------------------+-------------------------------+-------------------------+--------------+-------------------+------------------+-----------+--------------+----------------------+---------------------+--------------+\n",
      "| unique | 5           |          nan |              nan      |              nan      |          nan     | nan                           | nan                           |               nan       | 5            | 5                 |          nan     | 66        |     nan      |            nan       | 16                  |   nan        |\n",
      "+--------+-------------+--------------+-----------------------+-----------------------+------------------+-------------------------------+-------------------------------+-------------------------+--------------+-------------------+------------------+-----------+--------------+----------------------+---------------------+--------------+\n",
      "| top    | Casa        |          nan |              nan      |              nan      |          nan     | nan                           | nan                           |               nan       | EcoFriendly  | Alemanha          |          nan     | Vestido 1 |     nan      |            nan       | Hamburgo            |   nan        |\n",
      "+--------+-------------+--------------+-----------------------+-----------------------+------------------+-------------------------------+-------------------------------+-------------------------+--------------+-------------------+------------------+-----------+--------------+----------------------+---------------------+--------------+\n",
      "| freq   | 2842        |          nan |              nan      |              nan      |          nan     | nan                           | nan                           |               nan       | 2160         | 2175              |          nan     | 194       |     nan      |            nan       | 741                 |   nan        |\n",
      "+--------+-------------+--------------+-----------------------+-----------------------+------------------+-------------------------------+-------------------------------+-------------------------+--------------+-------------------+------------------+-----------+--------------+----------------------+---------------------+--------------+\n",
      "| mean   | nan         |       538627 |               13.3667 |               69.4421 |          118.902 | 2023-05-30 11:35:01.180438272 | 2023-06-07 11:02:34.468802816 |                 5.03692 | nan          | nan               |          243.079 | nan       |      33.4965 |              5.50178 | nan                 |     0.697962 |\n",
      "+--------+-------------+--------------+-----------------------+-----------------------+------------------+-------------------------------+-------------------------------+-------------------------+--------------+-------------------+------------------+-----------+--------------+----------------------+---------------------+--------------+\n",
      "| min    | nan         |       100042 |                0.1    |                0.1    |            0.5   | 2023-01-01 00:00:00           | 2023-01-02 00:00:00           |                 0.1     | nan          | nan               |            1     | nan       |       1      |              1       | nan                 |     0.126915 |\n",
      "+--------+-------------+--------------+-----------------------+-----------------------+------------------+-------------------------------+-------------------------------+-------------------------+--------------+-------------------+------------------+-----------+--------------+----------------------+---------------------+--------------+\n",
      "| 25%    | nan         |       318141 |                2.15   |                4.8725 |           12.08  | 2023-03-17 00:00:00           | 2023-03-25 00:00:00           |                 2.51    | nan          | nan               |           26.31  | nan       |      17      |              3       | nan                 |     0.572337 |\n",
      "+--------+-------------+--------------+-----------------------+-----------------------+------------------+-------------------------------+-------------------------------+-------------------------+--------------+-------------------+------------------+-----------+--------------+----------------------+---------------------+--------------+\n",
      "| 50%    | nan         |       531972 |                5.13   |               12.5    |           42.18  | 2023-05-31 01:00:00           | 2023-06-07 13:00:00           |                 5.02    | nan          | nan               |           92.425 | nan       |      33      |              5       | nan                 |     0.699973 |\n",
      "+--------+-------------+--------------+-----------------------+-----------------------+------------------+-------------------------------+-------------------------------+-------------------------+--------------+-------------------+------------------+-----------+--------------+----------------------+---------------------+--------------+\n",
      "| 75%    | nan         |       760661 |               13.24   |               32.4875 |          103.317 | 2023-08-13 01:00:00           | 2023-08-22 01:00:00           |                 7.56    | nan          | nan               |          208.248 | nan       |      50      |              8       | nan                 |     0.839771 |\n",
      "+--------+-------------+--------------+-----------------------+-----------------------+------------------+-------------------------------+-------------------------------+-------------------------+--------------+-------------------+------------------+-----------+--------------+----------------------+---------------------+--------------+\n",
      "| max    | nan         |       999816 |               99.7    |              798.42   |          896.54  | 2023-10-28 01:00:00           | 2023-11-12 00:00:00           |                10       | nan          | nan               |         1992.74  | nan       |      66      |             10       | nan                 |     0.999295 |\n",
      "+--------+-------------+--------------+-----------------------+-----------------------+------------------+-------------------------------+-------------------------------+-------------------------+--------------+-------------------+------------------+-----------+--------------+----------------------+---------------------+--------------+\n",
      "| std    | nan         |       256529 |               19.8142 |              145.522  |          190.455 | nan                           | nan                           |                 2.88255 | nan          | nan               |          385.467 | nan       |      19.1827 |              2.86889 | nan                 |     0.172739 |\n",
      "+--------+-------------+--------------+-----------------------+-----------------------+------------------+-------------------------------+-------------------------------+-------------------------+--------------+-------------------+------------------+-----------+--------------+----------------------+---------------------+--------------+\n"
     ]
    }
   ],
   "source": []
  },
  {
   "cell_type": "code",
   "execution_count": null,
   "id": "49fece45",
   "metadata": {},
   "outputs": [
    {
     "name": "stdout",
     "output_type": "stream",
     "text": [
      "Cliente_ID                 0\n",
      "Detalhes_Reclamações     498\n",
      "Histórico_Reclamações      0\n",
      "Frequência_Compra          0\n",
      "Género                     0\n",
      "Idade                      0\n",
      "Método_Pagamento           0\n",
      "País                       0\n",
      "Preferência_Categoria      0\n",
      "Score_Fidelidade           0\n",
      "dtype: int64\n",
      "Cliente_ID                 0\n",
      "Detalhes_Reclamações     498\n",
      "Histórico_Reclamações      0\n",
      "Frequência_Compra          0\n",
      "Género                     0\n",
      "Idade                      0\n",
      "Método_Pagamento           0\n",
      "País                       0\n",
      "Preferência_Categoria      0\n",
      "Score_Fidelidade           0\n",
      "dtype: int64\n"
     ]
    }
   ],
   "source": [
    "df_clientes = pd.read_excel(\"analise.xlsx\", sheet_name=1)\n",
    "tabela_descritiva_cliente = df_clientes.describe(include='all')\n",
    "tabela_descritiva_cliente.to_csv('tabela_descritiva_clientes.csv', index=True, encoding='utf-8')\n",
    "print(df_clientes.isnull().sum())\n",
    "print(df_clientes.isna().sum())"
   ]
  },
  {
   "cell_type": "markdown",
   "id": "c47f4eb2",
   "metadata": {},
   "source": [
    "Remover duplicados"
   ]
  },
  {
   "cell_type": "code",
   "execution_count": 177,
   "id": "b781ee4f",
   "metadata": {},
   "outputs": [],
   "source": [
    "df_clientes = df_clientes.drop_duplicates(subset=['Cliente_ID'], keep=False)\n",
    "df_clientes.to_csv('clientes.csv', index=False, encoding='utf-8')"
   ]
  },
  {
   "cell_type": "code",
   "execution_count": 167,
   "id": "a4bdf865",
   "metadata": {},
   "outputs": [
    {
     "name": "stdout",
     "output_type": "stream",
     "text": [
      "\n",
      "Valores nulos por coluna:\n",
      "Categoria                0\n",
      "Cliente_ID               0\n",
      "Consumo_Agua_Litros      0\n",
      "Consumo_Energia_kWh      0\n",
      "Custo_Produção           0\n",
      "Data_Compra              0\n",
      "Data_Receção             0\n",
      "Emissao_Gases_CO2e_kg    0\n",
      "Fabricante               0\n",
      "País_Fabricante          0\n",
      "Preço_Unitário           0\n",
      "Produto                  0\n",
      "Produto_ID               0\n",
      "Quantidade_Vendida       0\n",
      "Região_Fabricante        0\n",
      "dtype: int64\n",
      "Categoria                0\n",
      "Cliente_ID               0\n",
      "Consumo_Agua_Litros      0\n",
      "Consumo_Energia_kWh      0\n",
      "Custo_Produção           0\n",
      "Data_Compra              0\n",
      "Data_Receção             0\n",
      "Emissao_Gases_CO2e_kg    0\n",
      "Fabricante               0\n",
      "País_Fabricante          0\n",
      "Preço_Unitário           0\n",
      "Produto                  0\n",
      "Produto_ID               0\n",
      "Quantidade_Vendida       0\n",
      "Região_Fabricante        0\n",
      "dtype: int64\n"
     ]
    }
   ],
   "source": [
    "# Verificar valores nulos\n",
    "print(\"\\nValores nulos por coluna:\")\n",
    "print(df.isnull().sum())\n",
    "print(df.isna().sum())"
   ]
  },
  {
   "cell_type": "code",
   "execution_count": 168,
   "id": "0d33b948",
   "metadata": {},
   "outputs": [
    {
     "name": "stdout",
     "output_type": "stream",
     "text": [
      "\n",
      "Distribuição de categorias:\n",
      "Categoria\n",
      "Casa          2842\n",
      "Moda          2452\n",
      "Beleza        1985\n",
      "Alimentos     1922\n",
      "Eletrónica    1473\n",
      "Name: count, dtype: int64\n"
     ]
    }
   ],
   "source": [
    "# Distribuição de categorias\n",
    "print(\"\\nDistribuição de categorias:\")\n",
    "print(df['Categoria'].value_counts())\n"
   ]
  },
  {
   "cell_type": "code",
   "execution_count": 169,
   "id": "4929e115",
   "metadata": {},
   "outputs": [
    {
     "data": {
      "image/png": "[encoded data removed]",
      "text/plain": [
       "<Figure size 1000x600 with 1 Axes>"
      ]
     },
     "metadata": {},
     "output_type": "display_data"
    }
   ],
   "source": [
    "plt.figure(figsize=(10, 6))\n",
    "sns.boxplot(data=df, x='Categoria', y='Quantidade_Vendida')\n",
    "plt.title('Distribuição de Quantidade Vendida por Categoria')\n",
    "plt.xticks(rotation=45)\n",
    "plt.show()"
   ]
  },
  {
   "cell_type": "code",
   "execution_count": 170,
   "id": "b3270283",
   "metadata": {},
   "outputs": [
    {
     "name": "stdout",
     "output_type": "stream",
     "text": [
      "\n",
      "Correlação entre variáveis numéricas:\n",
      "                       Cliente_ID  Consumo_Agua_Litros  Consumo_Energia_kWh  \\\n",
      "Cliente_ID               1.000000            -0.009501            -0.008388   \n",
      "Consumo_Agua_Litros     -0.009501             1.000000             0.835588   \n",
      "Consumo_Energia_kWh     -0.008388             0.835588             1.000000   \n",
      "Custo_Produção           0.001939             0.838365             0.857585   \n",
      "Emissao_Gases_CO2e_kg   -0.014621             0.014920             0.016425   \n",
      "Preço_Unitário          -0.005882             0.849433             0.856379   \n",
      "Produto_ID               0.004723            -0.450189            -0.511518   \n",
      "Quantidade_Vendida      -0.023301            -0.008638            -0.004704   \n",
      "\n",
      "                       Custo_Produção  Emissao_Gases_CO2e_kg  Preço_Unitário  \\\n",
      "Cliente_ID                   0.001939              -0.014621       -0.005882   \n",
      "Consumo_Agua_Litros          0.838365               0.014920        0.849433   \n",
      "Consumo_Energia_kWh          0.857585               0.016425        0.856379   \n",
      "Custo_Produção               1.000000               0.021271        0.932789   \n",
      "Emissao_Gases_CO2e_kg        0.021271               1.000000        0.015723   \n",
      "Preço_Unitário               0.932789               0.015723        1.000000   \n",
      "Produto_ID                  -0.498352              -0.011343       -0.494362   \n",
      "Quantidade_Vendida          -0.012515               0.011709       -0.007812   \n",
      "\n",
      "                       Produto_ID  Quantidade_Vendida  \n",
      "Cliente_ID               0.004723           -0.023301  \n",
      "Consumo_Agua_Litros     -0.450189           -0.008638  \n",
      "Consumo_Energia_kWh     -0.511518           -0.004704  \n",
      "Custo_Produção          -0.498352           -0.012515  \n",
      "Emissao_Gases_CO2e_kg   -0.011343            0.011709  \n",
      "Preço_Unitário          -0.494362           -0.007812  \n",
      "Produto_ID               1.000000           -0.003021  \n",
      "Quantidade_Vendida      -0.003021            1.000000  \n"
     ]
    }
   ],
   "source": [
    "print(\"\\nCorrelação entre variáveis numéricas:\")\n",
    "print(df.select_dtypes(include=['number']).corr())"
   ]
  },
  {
   "cell_type": "code",
   "execution_count": null,
   "id": "aa9f2051",
   "metadata": {
    "vscode": {
     "languageId": "r"
    }
   },
   "outputs": [],
   "source": [
    "# Visualização: Mapa de calor de correlação\n",
    "plt.figure(figsize=(10, 6))\n",
    "sns.heatmap(df.corr(), annot=True, cmap='coolwarm', fmt=\".2f\")\n",
    "plt.title('Mapa de Calor de Correlação')\n",
    "plt.show()"
   ]
  },
  {
   "cell_type": "code",
   "execution_count": 171,
   "id": "ab947fc7",
   "metadata": {
    "vscode": {
     "languageId": "ruby"
    }
   },
   "outputs": [
    {
     "name": "stdout",
     "output_type": "stream",
     "text": [
      "     País_Fabricante      Produto  Consumo_Energia_kWh  Consumo_Agua_Litros  \\\n",
      "8941          Itália    Cerveja 2                 2.93                 0.65   \n",
      "1558          França    Cerveja 1                 2.92                 0.11   \n",
      "8710        Alemanha    Cerveja 3                 2.92                 0.23   \n",
      "3795        Alemanha    Cerveja 3                 2.92                 0.23   \n",
      "8629          Itália    Cerveja 3                 2.91                 0.15   \n",
      "...              ...          ...                  ...                  ...   \n",
      "7237        Portugal       Água 2                 0.10                 0.11   \n",
      "9140        Portugal   Bolachas 1                 0.10                 0.10   \n",
      "4644        Portugal  Chocolate 1                 0.10                 0.13   \n",
      "753         Portugal       Água 2                 0.10                 0.11   \n",
      "671         Portugal  Chocolate 1                 0.10                 0.13   \n",
      "\n",
      "      Emissao_Gases_CO2e_kg  \n",
      "8941                   4.57  \n",
      "1558                   7.28  \n",
      "8710                   7.10  \n",
      "3795                   7.10  \n",
      "8629                   2.08  \n",
      "...                     ...  \n",
      "7237                   8.56  \n",
      "9140                   4.27  \n",
      "4644                   1.49  \n",
      "753                    8.56  \n",
      "671                    1.49  \n",
      "\n",
      "[1922 rows x 5 columns]\n"
     ]
    }
   ],
   "source": [
    "# Filtrar os dados da categoria \"Alimentos\"\n",
    "alimentos_dados = df[(df['Categoria'] == 'Alimentos')]\n",
    "\n",
    "# Ordenar pelo consumo de energia\n",
    "alimentos_ordenados_energia = alimentos_dados.sort_values(by='Consumo_Energia_kWh', ascending=False)\n",
    "\n",
    "# Exibir os resultados\n",
    "print(alimentos_ordenados_energia[[\"País_Fabricante\",'Produto', 'Consumo_Energia_kWh','Consumo_Agua_Litros','Emissao_Gases_CO2e_kg']])\n"
   ]
  },
  {
   "cell_type": "code",
   "execution_count": 172,
   "id": "ad283829",
   "metadata": {},
   "outputs": [
    {
     "name": "stdout",
     "output_type": "stream",
     "text": [
      "Máximo consumo de água: 99.7\n"
     ]
    }
   ],
   "source": [
    "max_consumo_agua = df[Agua].max()\n",
    "min_consumo_agua = df[Agua].min()\n",
    "w1 = 0.2\n",
    "\n",
    "max_energia = df[Energia].max()\n",
    "min_energia = df[Energia].min()\n",
    "w2 = 0.3\n",
    "max_emissoes = df[co2].max()\n",
    "min_emissoes = df[co2].min()\n",
    "w3 = 0.5\n",
    "print(f\"Máximo consumo de água: {max_consumo_agua}\")\n",
    "indiceagua = w1 * ((df[Agua] - min_consumo_agua)/(max_consumo_agua-min_consumo_agua))\n",
    "indiceenergia = w2 * ((df[Energia] - min_energia)/(max_energia-min_energia))\n",
    "indiceemissoes = w3 * ((df[co2] - min_emissoes)/(max_emissoes-min_emissoes))\n",
    "indice = 1-(indiceagua+indiceenergia+indiceemissoes)\n",
    "\n",
    "# Adicionar o índice como uma coluna ao dataframe\n",
    "df['Indice'] = indice"
   ]
  },
  {
   "cell_type": "code",
   "execution_count": 173,
   "id": "78403104",
   "metadata": {},
   "outputs": [
    {
     "name": "stdout",
     "output_type": "stream",
     "text": [
      "Categoria\n",
      "Alimentos     0.748250\n",
      "Beleza        0.739720\n",
      "Moda          0.739015\n",
      "Casa          0.710629\n",
      "Eletrónica    0.483297\n",
      "Name: Indice, dtype: float64\n"
     ]
    }
   ],
   "source": [
    "categorias_maior_indice = df.groupby('Categoria')['Indice'].mean().sort_values(ascending=False)\n",
    "print(categorias_maior_indice)"
   ]
  },
  {
   "cell_type": "code",
   "execution_count": 174,
   "id": "9992fbed",
   "metadata": {},
   "outputs": [
    {
     "name": "stdout",
     "output_type": "stream",
     "text": [
      "      Região_Fabricante       Produto   Categoria    Indice\n",
      "4849             Berlim  Computador 1  Eletrónica  0.126915\n",
      "8906             Berlim  Computador 1  Eletrónica  0.126915\n",
      "7578             Berlim  Computador 1  Eletrónica  0.126915\n",
      "10398            Berlim  Computador 1  Eletrónica  0.126915\n",
      "3604             Berlim  Computador 1  Eletrónica  0.126915\n",
      "833                Faro   Televisão 2  Eletrónica  0.138890\n",
      "3643           Marselha   Televisão 2  Eletrónica  0.147912\n",
      "5665           Marselha   Televisão 2  Eletrónica  0.147912\n",
      "8596            Nápoles  Computador 2  Eletrónica  0.150410\n",
      "6827            Nápoles  Computador 2  Eletrónica  0.150410\n"
     ]
    }
   ],
   "source": [
    "produtos_mais_poluentes = df.sort_values(by='Indice', ascending=True)\n",
    "print(produtos_mais_poluentes[[Pais,'Produto', 'Categoria', 'Indice']].head(10))  # Exibe os 10 produtos mais poluentes"
   ]
  },
  {
   "cell_type": "code",
   "execution_count": null,
   "id": "0912de41",
   "metadata": {
    "vscode": {
     "languageId": "ruby"
    }
   },
   "outputs": [],
   "source": [
    "df_novo = "
   ]
  },
  {
   "cell_type": "code",
   "execution_count": null,
   "id": "d4b4af69",
   "metadata": {
    "vscode": {
     "languageId": "ruby"
    }
   },
   "outputs": [],
   "source": []
  },
  {
   "cell_type": "code",
   "execution_count": null,
   "id": "a4dc6ef2",
   "metadata": {
    "vscode": {
     "languageId": "ruby"
    }
   },
   "outputs": [
    {
     "ename": "NameError",
     "evalue": "name 'dfnovo' is not defined",
     "output_type": "error",
     "traceback": [
      "\u001b[1;31m---------------------------------------------------------------------------\u001b[0m",
      "\u001b[1;31mNameError\u001b[0m                                 Traceback (most recent call last)",
      "Cell \u001b[1;32mIn[176], line 1\u001b[0m\n\u001b[1;32m----> 1\u001b[0m \u001b[43mdfnovo\u001b[49m\u001b[38;5;241m.\u001b[39mto_csv(\u001b[38;5;124m'\u001b[39m\u001b[38;5;124mdfnovo.csv\u001b[39m\u001b[38;5;124m'\u001b[39m, index\u001b[38;5;241m=\u001b[39m\u001b[38;5;28;01mFalse\u001b[39;00m)\n",
      "\u001b[1;31mNameError\u001b[0m: name 'dfnovo' is not defined"
     ]
    }
   ],
   "source": []
  },
  {
   "cell_type": "code",
   "execution_count": null,
   "id": "1a82483b",
   "metadata": {},
   "outputs": [
    {
     "ename": "KeyError",
     "evalue": "'indice'",
     "output_type": "error",
     "traceback": [
      "\u001b[1;31m---------------------------------------------------------------------------\u001b[0m",
      "\u001b[1;31mKeyError\u001b[0m                                  Traceback (most recent call last)",
      "\u001b[1;32m~\\AppData\\Local\\Temp\\ipykernel_26812\\1166384054.py\u001b[0m in \u001b[0;36m?\u001b[1;34m()\u001b[0m\n\u001b[1;32m----> 1\u001b[1;33m \u001b[0mdf_ordenado\u001b[0m \u001b[1;33m=\u001b[0m \u001b[0mdf\u001b[0m\u001b[1;33m.\u001b[0m\u001b[0msort_values\u001b[0m\u001b[1;33m(\u001b[0m\u001b[0mby\u001b[0m\u001b[1;33m=\u001b[0m\u001b[1;34m'indice'\u001b[0m\u001b[1;33m,\u001b[0m \u001b[0mascending\u001b[0m\u001b[1;33m=\u001b[0m\u001b[1;32mFalse\u001b[0m\u001b[1;33m)\u001b[0m\u001b[1;33m\u001b[0m\u001b[1;33m\u001b[0m\u001b[0m\n\u001b[0m\u001b[0;32m      2\u001b[0m \u001b[0mprint\u001b[0m\u001b[1;33m(\u001b[0m\u001b[0mdf_ordenado\u001b[0m\u001b[1;33m)\u001b[0m\u001b[1;33m\u001b[0m\u001b[1;33m\u001b[0m\u001b[0m\n",
      "\u001b[1;32mc:\\Users\\ferol\\AppData\\Local\\Programs\\Python\\Python312\\Lib\\site-packages\\pandas\\core\\frame.py\u001b[0m in \u001b[0;36m?\u001b[1;34m(self, by, axis, ascending, inplace, kind, na_position, ignore_index, key)\u001b[0m\n\u001b[0;32m   7185\u001b[0m             \u001b[1;33m)\u001b[0m\u001b[1;33m\u001b[0m\u001b[1;33m\u001b[0m\u001b[0m\n\u001b[0;32m   7186\u001b[0m         \u001b[1;32melif\u001b[0m \u001b[0mlen\u001b[0m\u001b[1;33m(\u001b[0m\u001b[0mby\u001b[0m\u001b[1;33m)\u001b[0m\u001b[1;33m:\u001b[0m\u001b[1;33m\u001b[0m\u001b[1;33m\u001b[0m\u001b[0m\n\u001b[0;32m   7187\u001b[0m             \u001b[1;31m# len(by) == 1\u001b[0m\u001b[1;33m\u001b[0m\u001b[1;33m\u001b[0m\u001b[0m\n\u001b[0;32m   7188\u001b[0m \u001b[1;33m\u001b[0m\u001b[0m\n\u001b[1;32m-> 7189\u001b[1;33m             \u001b[0mk\u001b[0m \u001b[1;33m=\u001b[0m \u001b[0mself\u001b[0m\u001b[1;33m.\u001b[0m\u001b[0m_get_label_or_level_values\u001b[0m\u001b[1;33m(\u001b[0m\u001b[0mby\u001b[0m\u001b[1;33m[\u001b[0m\u001b[1;36m0\u001b[0m\u001b[1;33m]\u001b[0m\u001b[1;33m,\u001b[0m \u001b[0maxis\u001b[0m\u001b[1;33m=\u001b[0m\u001b[0maxis\u001b[0m\u001b[1;33m)\u001b[0m\u001b[1;33m\u001b[0m\u001b[1;33m\u001b[0m\u001b[0m\n\u001b[0m\u001b[0;32m   7190\u001b[0m \u001b[1;33m\u001b[0m\u001b[0m\n\u001b[0;32m   7191\u001b[0m             \u001b[1;31m# need to rewrap column in Series to apply key function\u001b[0m\u001b[1;33m\u001b[0m\u001b[1;33m\u001b[0m\u001b[0m\n\u001b[0;32m   7192\u001b[0m             \u001b[1;32mif\u001b[0m \u001b[0mkey\u001b[0m \u001b[1;32mis\u001b[0m \u001b[1;32mnot\u001b[0m \u001b[1;32mNone\u001b[0m\u001b[1;33m:\u001b[0m\u001b[1;33m\u001b[0m\u001b[1;33m\u001b[0m\u001b[0m\n",
      "\u001b[1;32mc:\\Users\\ferol\\AppData\\Local\\Programs\\Python\\Python312\\Lib\\site-packages\\pandas\\core\\generic.py\u001b[0m in \u001b[0;36m?\u001b[1;34m(self, key, axis)\u001b[0m\n\u001b[0;32m   1907\u001b[0m             \u001b[0mvalues\u001b[0m \u001b[1;33m=\u001b[0m \u001b[0mself\u001b[0m\u001b[1;33m.\u001b[0m\u001b[0mxs\u001b[0m\u001b[1;33m(\u001b[0m\u001b[0mkey\u001b[0m\u001b[1;33m,\u001b[0m \u001b[0maxis\u001b[0m\u001b[1;33m=\u001b[0m\u001b[0mother_axes\u001b[0m\u001b[1;33m[\u001b[0m\u001b[1;36m0\u001b[0m\u001b[1;33m]\u001b[0m\u001b[1;33m)\u001b[0m\u001b[1;33m.\u001b[0m\u001b[0m_values\u001b[0m\u001b[1;33m\u001b[0m\u001b[1;33m\u001b[0m\u001b[0m\n\u001b[0;32m   1908\u001b[0m         \u001b[1;32melif\u001b[0m \u001b[0mself\u001b[0m\u001b[1;33m.\u001b[0m\u001b[0m_is_level_reference\u001b[0m\u001b[1;33m(\u001b[0m\u001b[0mkey\u001b[0m\u001b[1;33m,\u001b[0m \u001b[0maxis\u001b[0m\u001b[1;33m=\u001b[0m\u001b[0maxis\u001b[0m\u001b[1;33m)\u001b[0m\u001b[1;33m:\u001b[0m\u001b[1;33m\u001b[0m\u001b[1;33m\u001b[0m\u001b[0m\n\u001b[0;32m   1909\u001b[0m             \u001b[0mvalues\u001b[0m \u001b[1;33m=\u001b[0m \u001b[0mself\u001b[0m\u001b[1;33m.\u001b[0m\u001b[0maxes\u001b[0m\u001b[1;33m[\u001b[0m\u001b[0maxis\u001b[0m\u001b[1;33m]\u001b[0m\u001b[1;33m.\u001b[0m\u001b[0mget_level_values\u001b[0m\u001b[1;33m(\u001b[0m\u001b[0mkey\u001b[0m\u001b[1;33m)\u001b[0m\u001b[1;33m.\u001b[0m\u001b[0m_values\u001b[0m\u001b[1;33m\u001b[0m\u001b[1;33m\u001b[0m\u001b[0m\n\u001b[0;32m   1910\u001b[0m         \u001b[1;32melse\u001b[0m\u001b[1;33m:\u001b[0m\u001b[1;33m\u001b[0m\u001b[1;33m\u001b[0m\u001b[0m\n\u001b[1;32m-> 1911\u001b[1;33m             \u001b[1;32mraise\u001b[0m \u001b[0mKeyError\u001b[0m\u001b[1;33m(\u001b[0m\u001b[0mkey\u001b[0m\u001b[1;33m)\u001b[0m\u001b[1;33m\u001b[0m\u001b[1;33m\u001b[0m\u001b[0m\n\u001b[0m\u001b[0;32m   1912\u001b[0m \u001b[1;33m\u001b[0m\u001b[0m\n\u001b[0;32m   1913\u001b[0m         \u001b[1;31m# Check for duplicates\u001b[0m\u001b[1;33m\u001b[0m\u001b[1;33m\u001b[0m\u001b[0m\n\u001b[0;32m   1914\u001b[0m         \u001b[1;32mif\u001b[0m \u001b[0mvalues\u001b[0m\u001b[1;33m.\u001b[0m\u001b[0mndim\u001b[0m \u001b[1;33m>\u001b[0m \u001b[1;36m1\u001b[0m\u001b[1;33m:\u001b[0m\u001b[1;33m\u001b[0m\u001b[1;33m\u001b[0m\u001b[0m\n",
      "\u001b[1;31mKeyError\u001b[0m: 'indice'"
     ]
    }
   ],
   "source": [
    "df_ordenado = df.sort_values(by='indice', ascending=False)\n",
    "print(df_ordenado)"
   ]
  },
  {
   "cell_type": "code",
   "execution_count": null,
   "id": "a9a1a545",
   "metadata": {
    "vscode": {
     "languageId": "ruby"
    }
   },
   "outputs": [],
   "source": []
  }
 ],
 "metadata": {
  "kernelspec": {
   "display_name": "Python 3",
   "language": "python",
   "name": "python3"
  },
  "language_info": {
   "codemirror_mode": {
    "name": "ipython",
    "version": 3
   },
   "file_extension": ".py",
   "mimetype": "text/x-python",
   "name": "python",
   "nbconvert_exporter": "python",
   "pygments_lexer": "ipython3",
   "version": "3.12.8"
  }
 },
 "nbformat": 4,
 "nbformat_minor": 5
}
